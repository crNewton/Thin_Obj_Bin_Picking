{
 "cells": [
  {
   "cell_type": "code",
   "execution_count": 1,
   "metadata": {},
   "outputs": [
    {
     "ename": "ImportError",
     "evalue": "cannot import name blister_pose",
     "output_type": "error",
     "traceback": [
      "\u001b[0;31m-----------------------------------------------------------------------\u001b[0m",
      "\u001b[0;31mImportError\u001b[0m                           Traceback (most recent call last)",
      "\u001b[0;32m<ipython-input-1-e4adb7d1fc42>\u001b[0m in \u001b[0;36m<module>\u001b[0;34m()\u001b[0m\n\u001b[1;32m     11\u001b[0m \u001b[0;31m# ROS Image message -> OpenCV2 image converter\u001b[0m\u001b[0;34m\u001b[0m\u001b[0;34m\u001b[0m\u001b[0m\n\u001b[1;32m     12\u001b[0m \u001b[0;32mfrom\u001b[0m \u001b[0mcv_bridge\u001b[0m \u001b[0;32mimport\u001b[0m \u001b[0mCvBridge\u001b[0m\u001b[0;34m,\u001b[0m \u001b[0mCvBridgeError\u001b[0m\u001b[0;34m\u001b[0m\u001b[0m\n\u001b[0;32m---> 13\u001b[0;31m \u001b[0;32mfrom\u001b[0m \u001b[0mthin_obj_bin_picking\u001b[0m\u001b[0;34m.\u001b[0m\u001b[0mmsg\u001b[0m \u001b[0;32mimport\u001b[0m \u001b[0mblister_pose\u001b[0m\u001b[0;34m\u001b[0m\u001b[0m\n\u001b[0m\u001b[1;32m     14\u001b[0m \u001b[0;31m#import tf\u001b[0m\u001b[0;34m\u001b[0m\u001b[0;34m\u001b[0m\u001b[0m\n",
      "\u001b[0;31mImportError\u001b[0m: cannot import name blister_pose"
     ]
    }
   ],
   "source": [
    "import cv2\n",
    "# ROS packages\n",
    "import rospy\n",
    "import geometry_msgs.msg\n",
    "import time\n",
    "import roslib; roslib.load_manifest('ur_driver')\n",
    "import actionlib\n",
    "# ROS Image message\n",
    "from sensor_msgs.msg import Image\n",
    "from thin_obj_bin_picking.msg import img_status\n",
    "# ROS Image message -> OpenCV2 image converter\n",
    "from cv_bridge import CvBridge, CvBridgeError\n",
    "#import tf"
   ]
  },
  {
   "cell_type": "code",
   "execution_count": 2,
   "metadata": {
    "collapsed": true
   },
   "outputs": [],
   "source": [
    "image_status_pub = rospy.Publisher('/send_image', img_status, queue_size=10)\n",
    "rospy.init_node('is_send_image', anonymous=True)\n",
    "rate = rospy.Rate(0.1)\n",
    "while not rospy.is_shutdown():\n",
    "    img = img_status()\n",
    "    img.status.data = 1\n",
    "    image_status_pub.publish(img)\n",
    "    rate.sleep()"
   ]
  },
  {
   "cell_type": "code",
   "execution_count": null,
   "metadata": {
    "collapsed": true
   },
   "outputs": [],
   "source": []
  },
  {
   "cell_type": "code",
   "execution_count": null,
   "metadata": {
    "collapsed": true
   },
   "outputs": [],
   "source": []
  }
 ],
 "metadata": {
  "kernelspec": {
   "display_name": "Python 2",
   "language": "python",
   "name": "python2"
  },
  "language_info": {
   "codemirror_mode": {
    "name": "ipython",
    "version": 2
   },
   "file_extension": ".py",
   "mimetype": "text/x-python",
   "name": "python",
   "nbconvert_exporter": "python",
   "pygments_lexer": "ipython2",
   "version": "2.7.15"
  }
 },
 "nbformat": 4,
 "nbformat_minor": 2
}
